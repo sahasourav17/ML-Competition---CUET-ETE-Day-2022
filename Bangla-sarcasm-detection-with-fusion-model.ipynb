{
 "cells": [
  {
   "cell_type": "code",
   "execution_count": 1,
   "id": "c47e50f4",
   "metadata": {
    "_cell_guid": "b1076dfc-b9ad-4769-8c92-a6c4dae69d19",
    "_uuid": "8f2839f25d086af736a60e9eeb907d3b93b6e0e5",
    "execution": {
     "iopub.execute_input": "2022-10-21T18:40:02.415301Z",
     "iopub.status.busy": "2022-10-21T18:40:02.414717Z",
     "iopub.status.idle": "2022-10-21T18:40:09.349513Z",
     "shell.execute_reply": "2022-10-21T18:40:09.348462Z"
    },
    "papermill": {
     "duration": 6.95098,
     "end_time": "2022-10-21T18:40:09.352157",
     "exception": false,
     "start_time": "2022-10-21T18:40:02.401177",
     "status": "completed"
    },
    "tags": []
   },
   "outputs": [],
   "source": [
    "import numpy as np\n",
    "import matplotlib.pyplot as plt\n",
    "%matplotlib inline\n",
    "import pandas as pd\n",
    "import seaborn as sns\n",
    "import re,nltk,json\n",
    "import tensorflow as tf\n",
    "from tensorflow import keras\n",
    "from tensorflow.keras import regularizers\n",
    "from tensorflow.keras.preprocessing.sequence import pad_sequences\n",
    "from keras.layers import Input, Dense, Activation, Dropout,Flatten,Embedding\n",
    "from keras.layers import Conv1D,MaxPooling1D,GlobalAveragePooling1D, Bidirectional, LSTM, GRU\n",
    "from keras.models import Model\n",
    "from tensorflow.keras.optimizers import Adam,SGD,Nadam,RMSprop\n",
    "from tensorflow.keras.models import load_model\n",
    "from tensorflow.keras.models import load_model\n",
    "from sklearn.metrics import confusion_matrix,classification_report \n",
    "from sklearn.model_selection import train_test_split\n",
    "from sklearn.metrics import accuracy_score,precision_score,recall_score,f1_score,roc_auc_score\n",
    "from tensorflow.keras.preprocessing.text import Tokenizer\n",
    "from keras.utils.vis_utils import plot_model\n",
    "import pickle\n",
    "# Warnings\n",
    "import warnings\n",
    "warnings.simplefilter(action='ignore', category=FutureWarning)"
   ]
  },
  {
   "cell_type": "markdown",
   "id": "3b768281",
   "metadata": {
    "papermill": {
     "duration": 0.009507,
     "end_time": "2022-10-21T18:40:09.372124",
     "exception": false,
     "start_time": "2022-10-21T18:40:09.362617",
     "status": "completed"
    },
    "tags": []
   },
   "source": [
    "### Dataset Loading"
   ]
  },
  {
   "cell_type": "code",
   "execution_count": 2,
   "id": "3f856d72",
   "metadata": {
    "execution": {
     "iopub.execute_input": "2022-10-21T18:40:09.394903Z",
     "iopub.status.busy": "2022-10-21T18:40:09.394307Z",
     "iopub.status.idle": "2022-10-21T18:40:09.650201Z",
     "shell.execute_reply": "2022-10-21T18:40:09.649199Z"
    },
    "papermill": {
     "duration": 0.270642,
     "end_time": "2022-10-21T18:40:09.652738",
     "exception": false,
     "start_time": "2022-10-21T18:40:09.382096",
     "status": "completed"
    },
    "tags": []
   },
   "outputs": [],
   "source": [
    "df_train = pd.read_csv('../input/nlp-competition-cuet-ete-day-2022/train.csv')\n",
    "df_test = pd.read_csv('../input/nlp-competition-cuet-ete-day-2022/test.csv')"
   ]
  },
  {
   "cell_type": "markdown",
   "id": "5fad85cd",
   "metadata": {
    "papermill": {
     "duration": 0.010248,
     "end_time": "2022-10-21T18:40:09.673640",
     "exception": false,
     "start_time": "2022-10-21T18:40:09.663392",
     "status": "completed"
    },
    "tags": []
   },
   "source": [
    "### Train Dataset Processing"
   ]
  },
  {
   "cell_type": "code",
   "execution_count": 3,
   "id": "98adc09e",
   "metadata": {
    "execution": {
     "iopub.execute_input": "2022-10-21T18:40:09.696380Z",
     "iopub.status.busy": "2022-10-21T18:40:09.695544Z",
     "iopub.status.idle": "2022-10-21T18:40:09.713608Z",
     "shell.execute_reply": "2022-10-21T18:40:09.712585Z"
    },
    "papermill": {
     "duration": 0.032033,
     "end_time": "2022-10-21T18:40:09.716105",
     "exception": false,
     "start_time": "2022-10-21T18:40:09.684072",
     "status": "completed"
    },
    "tags": []
   },
   "outputs": [
    {
     "data": {
      "text/html": [
       "<div>\n",
       "<style scoped>\n",
       "    .dataframe tbody tr th:only-of-type {\n",
       "        vertical-align: middle;\n",
       "    }\n",
       "\n",
       "    .dataframe tbody tr th {\n",
       "        vertical-align: top;\n",
       "    }\n",
       "\n",
       "    .dataframe thead th {\n",
       "        text-align: right;\n",
       "    }\n",
       "</style>\n",
       "<table border=\"1\" class=\"dataframe\">\n",
       "  <thead>\n",
       "    <tr style=\"text-align: right;\">\n",
       "      <th></th>\n",
       "      <th>Id</th>\n",
       "      <th>headlines</th>\n",
       "      <th>category</th>\n",
       "    </tr>\n",
       "  </thead>\n",
       "  <tbody>\n",
       "    <tr>\n",
       "      <th>0</th>\n",
       "      <td>0</td>\n",
       "      <td>উত্তর প্রদেশে প্রিয়াংকার ইমেজ ব্যর্থ</td>\n",
       "      <td>0</td>\n",
       "    </tr>\n",
       "    <tr>\n",
       "      <th>1</th>\n",
       "      <td>1</td>\n",
       "      <td>১০০০ বিড়াল অতিথিকে নিয়ে বিয়ে করলেন কানাডিয়া...</td>\n",
       "      <td>1</td>\n",
       "    </tr>\n",
       "    <tr>\n",
       "      <th>2</th>\n",
       "      <td>2</td>\n",
       "      <td>মিসর ছেড়ে চেচনিয়ার হয়ে খেলবেন সালাহ!</td>\n",
       "      <td>0</td>\n",
       "    </tr>\n",
       "    <tr>\n",
       "      <th>3</th>\n",
       "      <td>3</td>\n",
       "      <td>আলেপ্পোয় বিমান হামলা যুদ্ধাপরাধের শামিল</td>\n",
       "      <td>0</td>\n",
       "    </tr>\n",
       "    <tr>\n",
       "      <th>4</th>\n",
       "      <td>4</td>\n",
       "      <td>সিয়াটলে চুরি হওয়া বিমানটি বিধ্বস্ত, চালক ছিলেন...</td>\n",
       "      <td>0</td>\n",
       "    </tr>\n",
       "  </tbody>\n",
       "</table>\n",
       "</div>"
      ],
      "text/plain": [
       "   Id                                          headlines  category\n",
       "0   0               উত্তর প্রদেশে প্রিয়াংকার ইমেজ ব্যর্থ         0\n",
       "1   1  ১০০০ বিড়াল অতিথিকে নিয়ে বিয়ে করলেন কানাডিয়া...         1\n",
       "2   2               মিসর ছেড়ে চেচনিয়ার হয়ে খেলবেন সালাহ!         0\n",
       "3   3            আলেপ্পোয় বিমান হামলা যুদ্ধাপরাধের শামিল         0\n",
       "4   4  সিয়াটলে চুরি হওয়া বিমানটি বিধ্বস্ত, চালক ছিলেন...         0"
      ]
     },
     "execution_count": 3,
     "metadata": {},
     "output_type": "execute_result"
    }
   ],
   "source": [
    "df_train.head()"
   ]
  },
  {
   "cell_type": "code",
   "execution_count": 4,
   "id": "44a8227a",
   "metadata": {
    "execution": {
     "iopub.execute_input": "2022-10-21T18:40:09.738889Z",
     "iopub.status.busy": "2022-10-21T18:40:09.738032Z",
     "iopub.status.idle": "2022-10-21T18:40:09.766265Z",
     "shell.execute_reply": "2022-10-21T18:40:09.765090Z"
    },
    "papermill": {
     "duration": 0.042077,
     "end_time": "2022-10-21T18:40:09.768968",
     "exception": false,
     "start_time": "2022-10-21T18:40:09.726891",
     "status": "completed"
    },
    "tags": []
   },
   "outputs": [
    {
     "data": {
      "text/html": [
       "<div>\n",
       "<style scoped>\n",
       "    .dataframe tbody tr th:only-of-type {\n",
       "        vertical-align: middle;\n",
       "    }\n",
       "\n",
       "    .dataframe tbody tr th {\n",
       "        vertical-align: top;\n",
       "    }\n",
       "\n",
       "    .dataframe thead th {\n",
       "        text-align: right;\n",
       "    }\n",
       "</style>\n",
       "<table border=\"1\" class=\"dataframe\">\n",
       "  <thead>\n",
       "    <tr style=\"text-align: right;\">\n",
       "      <th></th>\n",
       "      <th>Id</th>\n",
       "      <th>category</th>\n",
       "    </tr>\n",
       "  </thead>\n",
       "  <tbody>\n",
       "    <tr>\n",
       "      <th>count</th>\n",
       "      <td>48508.000000</td>\n",
       "      <td>48508.000000</td>\n",
       "    </tr>\n",
       "    <tr>\n",
       "      <th>mean</th>\n",
       "      <td>24253.500000</td>\n",
       "      <td>0.125052</td>\n",
       "    </tr>\n",
       "    <tr>\n",
       "      <th>std</th>\n",
       "      <td>14003.197766</td>\n",
       "      <td>0.330781</td>\n",
       "    </tr>\n",
       "    <tr>\n",
       "      <th>min</th>\n",
       "      <td>0.000000</td>\n",
       "      <td>0.000000</td>\n",
       "    </tr>\n",
       "    <tr>\n",
       "      <th>25%</th>\n",
       "      <td>12126.750000</td>\n",
       "      <td>0.000000</td>\n",
       "    </tr>\n",
       "    <tr>\n",
       "      <th>50%</th>\n",
       "      <td>24253.500000</td>\n",
       "      <td>0.000000</td>\n",
       "    </tr>\n",
       "    <tr>\n",
       "      <th>75%</th>\n",
       "      <td>36380.250000</td>\n",
       "      <td>0.000000</td>\n",
       "    </tr>\n",
       "    <tr>\n",
       "      <th>max</th>\n",
       "      <td>48507.000000</td>\n",
       "      <td>1.000000</td>\n",
       "    </tr>\n",
       "  </tbody>\n",
       "</table>\n",
       "</div>"
      ],
      "text/plain": [
       "                 Id      category\n",
       "count  48508.000000  48508.000000\n",
       "mean   24253.500000      0.125052\n",
       "std    14003.197766      0.330781\n",
       "min        0.000000      0.000000\n",
       "25%    12126.750000      0.000000\n",
       "50%    24253.500000      0.000000\n",
       "75%    36380.250000      0.000000\n",
       "max    48507.000000      1.000000"
      ]
     },
     "execution_count": 4,
     "metadata": {},
     "output_type": "execute_result"
    }
   ],
   "source": [
    "df_train.describe()"
   ]
  },
  {
   "cell_type": "code",
   "execution_count": 5,
   "id": "b9c410e7",
   "metadata": {
    "execution": {
     "iopub.execute_input": "2022-10-21T18:40:09.792991Z",
     "iopub.status.busy": "2022-10-21T18:40:09.791348Z",
     "iopub.status.idle": "2022-10-21T18:40:10.025552Z",
     "shell.execute_reply": "2022-10-21T18:40:10.024627Z"
    },
    "papermill": {
     "duration": 0.248036,
     "end_time": "2022-10-21T18:40:10.027927",
     "exception": false,
     "start_time": "2022-10-21T18:40:09.779891",
     "status": "completed"
    },
    "tags": []
   },
   "outputs": [
    {
     "data": {
      "text/plain": [
       "<AxesSubplot:xlabel='category', ylabel='count'>"
      ]
     },
     "execution_count": 5,
     "metadata": {},
     "output_type": "execute_result"
    },
    {
     "data": {
      "image/png": "[encoded data removed]",
      "text/plain": [
       "<Figure size 432x288 with 1 Axes>"
      ]
     },
     "metadata": {
      "needs_background": "light"
     },
     "output_type": "display_data"
    }
   ],
   "source": [
    "sns.countplot(df_train.category)"
   ]
  },
  {
   "cell_type": "code",
   "execution_count": 6,
   "id": "46d2cae9",
   "metadata": {
    "execution": {
     "iopub.execute_input": "2022-10-21T18:40:10.050333Z",
     "iopub.status.busy": "2022-10-21T18:40:10.049989Z",
     "iopub.status.idle": "2022-10-21T18:40:10.061821Z",
     "shell.execute_reply": "2022-10-21T18:40:10.060741Z"
    },
    "papermill": {
     "duration": 0.025136,
     "end_time": "2022-10-21T18:40:10.063954",
     "exception": false,
     "start_time": "2022-10-21T18:40:10.038818",
     "status": "completed"
    },
    "tags": []
   },
   "outputs": [
    {
     "data": {
      "text/plain": [
       "Id           0\n",
       "headlines    3\n",
       "category     0\n",
       "dtype: int64"
      ]
     },
     "execution_count": 6,
     "metadata": {},
     "output_type": "execute_result"
    }
   ],
   "source": [
    "df_train.isnull().sum()"
   ]
  },
  {
   "cell_type": "code",
   "execution_count": 7,
   "id": "41534daf",
   "metadata": {
    "execution": {
     "iopub.execute_input": "2022-10-21T18:40:10.086494Z",
     "iopub.status.busy": "2022-10-21T18:40:10.085665Z",
     "iopub.status.idle": "2022-10-21T18:40:10.097686Z",
     "shell.execute_reply": "2022-10-21T18:40:10.096758Z"
    },
    "papermill": {
     "duration": 0.02543,
     "end_time": "2022-10-21T18:40:10.100018",
     "exception": false,
     "start_time": "2022-10-21T18:40:10.074588",
     "status": "completed"
    },
    "tags": []
   },
   "outputs": [],
   "source": [
    "df_train = df_train.dropna()"
   ]
  },
  {
   "cell_type": "code",
   "execution_count": 8,
   "id": "f404a4a7",
   "metadata": {
    "execution": {
     "iopub.execute_input": "2022-10-21T18:40:10.122976Z",
     "iopub.status.busy": "2022-10-21T18:40:10.122628Z",
     "iopub.status.idle": "2022-10-21T18:40:10.130753Z",
     "shell.execute_reply": "2022-10-21T18:40:10.129784Z"
    },
    "papermill": {
     "duration": 0.021782,
     "end_time": "2022-10-21T18:40:10.132703",
     "exception": false,
     "start_time": "2022-10-21T18:40:10.110921",
     "status": "completed"
    },
    "tags": []
   },
   "outputs": [
    {
     "data": {
      "text/plain": [
       "0    42439\n",
       "1     6066\n",
       "Name: category, dtype: int64"
      ]
     },
     "execution_count": 8,
     "metadata": {},
     "output_type": "execute_result"
    }
   ],
   "source": [
    "df_train.category.value_counts()"
   ]
  },
  {
   "cell_type": "markdown",
   "id": "0ecd69ec",
   "metadata": {
    "papermill": {
     "duration": 0.010479,
     "end_time": "2022-10-21T18:40:10.153750",
     "exception": false,
     "start_time": "2022-10-21T18:40:10.143271",
     "status": "completed"
    },
    "tags": []
   },
   "source": [
    "### Functions for preprocessing text "
   ]
  },
  {
   "cell_type": "code",
   "execution_count": 9,
   "id": "86b1e733",
   "metadata": {
    "execution": {
     "iopub.execute_input": "2022-10-21T18:40:10.177653Z",
     "iopub.status.busy": "2022-10-21T18:40:10.176703Z",
     "iopub.status.idle": "2022-10-21T18:40:10.184914Z",
     "shell.execute_reply": "2022-10-21T18:40:10.183974Z"
    },
    "papermill": {
     "duration": 0.022583,
     "end_time": "2022-10-21T18:40:10.187065",
     "exception": false,
     "start_time": "2022-10-21T18:40:10.164482",
     "status": "completed"
    },
    "tags": []
   },
   "outputs": [],
   "source": [
    "def remove_pattern(text):\n",
    "    emoji_pattern = re.compile(\"[\"\n",
    "                           u\"\\U0001F600-\\U0001F64F\"  # emoticons\n",
    "                           u\"\\U0001F300-\\U0001F5FF\"  # symbols & pictographs\n",
    "                           u\"\\U0001F680-\\U0001F6FF\"  # transport & map symbols\n",
    "                           u\"\\U0001F1E0-\\U0001F1FF\"  # flags (iOS)\n",
    "                           u\"\\U00002702-\\U000027B0\"\n",
    "                           u\"\\U000024C2-\\U0001F251\"\n",
    "                           u\"\\u00C0-\\u017F\"          #latin\n",
    "                           u\"\\u2000-\\u206F\"          #generalPunctuations\n",
    "                               \n",
    "                           \"]+\", flags=re.UNICODE)\n",
    "    english_pattern=re.compile('[a-zA-Z0-9]+', flags=re.I)\n",
    "    \n",
    "    text=emoji_pattern.sub(r'', text)\n",
    "    text=english_pattern.sub(r'', text)\n",
    "\n",
    "    return text\n",
    "\n",
    "\n",
    "punc = '''```\u0012\u0010\u0002\b`\u0007\b£|¢|\u0007Ñ+-*/=EROero৳০১২৩৪৫৬৭৮৯012–34567•89।!()-[]{};:'\"“\\’,<>./?@#$%^&*_~‘—॥”‰✌�￰৷￰'''\n",
    "def remove_punc(text):\n",
    "    cleaned = \"\"\n",
    "    for char in text:\n",
    "        if char not in punc:\n",
    "            cleaned += char\n",
    "    return cleaned"
   ]
  },
  {
   "cell_type": "code",
   "execution_count": 10,
   "id": "5786705a",
   "metadata": {
    "execution": {
     "iopub.execute_input": "2022-10-21T18:40:10.210881Z",
     "iopub.status.busy": "2022-10-21T18:40:10.210036Z",
     "iopub.status.idle": "2022-10-21T18:40:10.214841Z",
     "shell.execute_reply": "2022-10-21T18:40:10.213874Z"
    },
    "papermill": {
     "duration": 0.018712,
     "end_time": "2022-10-21T18:40:10.216771",
     "exception": false,
     "start_time": "2022-10-21T18:40:10.198059",
     "status": "completed"
    },
    "tags": []
   },
   "outputs": [],
   "source": [
    "# banstop =pd.read_excel('../input/banstopwords/banstop.xlsx')\n",
    "# stp_words = banstop['words'].tolist()"
   ]
  },
  {
   "cell_type": "code",
   "execution_count": 11,
   "id": "f9bcff4d",
   "metadata": {
    "execution": {
     "iopub.execute_input": "2022-10-21T18:40:10.239371Z",
     "iopub.status.busy": "2022-10-21T18:40:10.239043Z",
     "iopub.status.idle": "2022-10-21T18:40:10.243231Z",
     "shell.execute_reply": "2022-10-21T18:40:10.242231Z"
    },
    "papermill": {
     "duration": 0.017694,
     "end_time": "2022-10-21T18:40:10.245157",
     "exception": false,
     "start_time": "2022-10-21T18:40:10.227463",
     "status": "completed"
    },
    "tags": []
   },
   "outputs": [],
   "source": [
    "# def remove_stopwords(text):\n",
    "#     text = str(text)\n",
    "#     words = text.split()\n",
    "#     l = [word for word in words if word not in stp_words]\n",
    "#     cleaned = ' '.join(str(x) for x in l)\n",
    "#     return cleaned"
   ]
  },
  {
   "cell_type": "code",
   "execution_count": 12,
   "id": "9c3c8a07",
   "metadata": {
    "execution": {
     "iopub.execute_input": "2022-10-21T18:40:10.267165Z",
     "iopub.status.busy": "2022-10-21T18:40:10.266382Z",
     "iopub.status.idle": "2022-10-21T18:40:10.271428Z",
     "shell.execute_reply": "2022-10-21T18:40:10.270601Z"
    },
    "papermill": {
     "duration": 0.018511,
     "end_time": "2022-10-21T18:40:10.273704",
     "exception": false,
     "start_time": "2022-10-21T18:40:10.255193",
     "status": "completed"
    },
    "tags": []
   },
   "outputs": [],
   "source": [
    "def preprocess(text):\n",
    "    cleaned = remove_punc(remove_pattern(text))\n",
    "#     final = remove_stopwords(cleaned)\n",
    "    return cleaned"
   ]
  },
  {
   "cell_type": "code",
   "execution_count": 13,
   "id": "93f5309c",
   "metadata": {
    "execution": {
     "iopub.execute_input": "2022-10-21T18:40:10.296449Z",
     "iopub.status.busy": "2022-10-21T18:40:10.295616Z",
     "iopub.status.idle": "2022-10-21T18:40:10.894529Z",
     "shell.execute_reply": "2022-10-21T18:40:10.893336Z"
    },
    "papermill": {
     "duration": 0.612883,
     "end_time": "2022-10-21T18:40:10.897175",
     "exception": false,
     "start_time": "2022-10-21T18:40:10.284292",
     "status": "completed"
    },
    "tags": []
   },
   "outputs": [],
   "source": [
    "df_train['cleaned'] = df_train['headlines'].apply(preprocess)"
   ]
  },
  {
   "cell_type": "code",
   "execution_count": 14,
   "id": "eeafb357",
   "metadata": {
    "execution": {
     "iopub.execute_input": "2022-10-21T18:40:10.922951Z",
     "iopub.status.busy": "2022-10-21T18:40:10.922131Z",
     "iopub.status.idle": "2022-10-21T18:40:10.934424Z",
     "shell.execute_reply": "2022-10-21T18:40:10.933212Z"
    },
    "papermill": {
     "duration": 0.02777,
     "end_time": "2022-10-21T18:40:10.937071",
     "exception": false,
     "start_time": "2022-10-21T18:40:10.909301",
     "status": "completed"
    },
    "tags": []
   },
   "outputs": [
    {
     "data": {
      "text/html": [
       "<div>\n",
       "<style scoped>\n",
       "    .dataframe tbody tr th:only-of-type {\n",
       "        vertical-align: middle;\n",
       "    }\n",
       "\n",
       "    .dataframe tbody tr th {\n",
       "        vertical-align: top;\n",
       "    }\n",
       "\n",
       "    .dataframe thead th {\n",
       "        text-align: right;\n",
       "    }\n",
       "</style>\n",
       "<table border=\"1\" class=\"dataframe\">\n",
       "  <thead>\n",
       "    <tr style=\"text-align: right;\">\n",
       "      <th></th>\n",
       "      <th>Id</th>\n",
       "      <th>headlines</th>\n",
       "      <th>category</th>\n",
       "      <th>cleaned</th>\n",
       "    </tr>\n",
       "  </thead>\n",
       "  <tbody>\n",
       "    <tr>\n",
       "      <th>0</th>\n",
       "      <td>0</td>\n",
       "      <td>উত্তর প্রদেশে প্রিয়াংকার ইমেজ ব্যর্থ</td>\n",
       "      <td>0</td>\n",
       "      <td>উত্তর প্রদেশে প্রিয়াংকার ইমেজ ব্যর্থ</td>\n",
       "    </tr>\n",
       "    <tr>\n",
       "      <th>1</th>\n",
       "      <td>1</td>\n",
       "      <td>১০০০ বিড়াল অতিথিকে নিয়ে বিয়ে করলেন কানাডিয়া...</td>\n",
       "      <td>1</td>\n",
       "      <td>বিড়াল অতিথিকে নিয়ে বিয়ে করলেন কানাডিয়ান দম...</td>\n",
       "    </tr>\n",
       "    <tr>\n",
       "      <th>2</th>\n",
       "      <td>2</td>\n",
       "      <td>মিসর ছেড়ে চেচনিয়ার হয়ে খেলবেন সালাহ!</td>\n",
       "      <td>0</td>\n",
       "      <td>মিসর ছেড়ে চেচনিয়ার হয়ে খেলবেন সালাহ</td>\n",
       "    </tr>\n",
       "    <tr>\n",
       "      <th>3</th>\n",
       "      <td>3</td>\n",
       "      <td>আলেপ্পোয় বিমান হামলা যুদ্ধাপরাধের শামিল</td>\n",
       "      <td>0</td>\n",
       "      <td>আলেপ্পোয় বিমান হামলা যুদ্ধাপরাধের শামিল</td>\n",
       "    </tr>\n",
       "    <tr>\n",
       "      <th>4</th>\n",
       "      <td>4</td>\n",
       "      <td>সিয়াটলে চুরি হওয়া বিমানটি বিধ্বস্ত, চালক ছিলেন...</td>\n",
       "      <td>0</td>\n",
       "      <td>সিয়াটলে চুরি হওয়া বিমানটি বিধ্বস্ত চালক ছিলেন ...</td>\n",
       "    </tr>\n",
       "  </tbody>\n",
       "</table>\n",
       "</div>"
      ],
      "text/plain": [
       "   Id                                          headlines  category  \\\n",
       "0   0               উত্তর প্রদেশে প্রিয়াংকার ইমেজ ব্যর্থ         0   \n",
       "1   1  ১০০০ বিড়াল অতিথিকে নিয়ে বিয়ে করলেন কানাডিয়া...         1   \n",
       "2   2               মিসর ছেড়ে চেচনিয়ার হয়ে খেলবেন সালাহ!         0   \n",
       "3   3            আলেপ্পোয় বিমান হামলা যুদ্ধাপরাধের শামিল         0   \n",
       "4   4  সিয়াটলে চুরি হওয়া বিমানটি বিধ্বস্ত, চালক ছিলেন...         0   \n",
       "\n",
       "                                             cleaned  \n",
       "0               উত্তর প্রদেশে প্রিয়াংকার ইমেজ ব্যর্থ  \n",
       "1   বিড়াল অতিথিকে নিয়ে বিয়ে করলেন কানাডিয়ান দম...  \n",
       "2                মিসর ছেড়ে চেচনিয়ার হয়ে খেলবেন সালাহ  \n",
       "3            আলেপ্পোয় বিমান হামলা যুদ্ধাপরাধের শামিল  \n",
       "4  সিয়াটলে চুরি হওয়া বিমানটি বিধ্বস্ত চালক ছিলেন ...  "
      ]
     },
     "execution_count": 14,
     "metadata": {},
     "output_type": "execute_result"
    }
   ],
   "source": [
    "df_train.head()"
   ]
  },
  {
   "cell_type": "markdown",
   "id": "b6da7834",
   "metadata": {
    "papermill": {
     "duration": 0.010901,
     "end_time": "2022-10-21T18:40:10.959617",
     "exception": false,
     "start_time": "2022-10-21T18:40:10.948716",
     "status": "completed"
    },
    "tags": []
   },
   "source": [
    "### Removing low length data "
   ]
  },
  {
   "cell_type": "code",
   "execution_count": 15,
   "id": "e7a11072",
   "metadata": {
    "execution": {
     "iopub.execute_input": "2022-10-21T18:40:10.984000Z",
     "iopub.status.busy": "2022-10-21T18:40:10.982996Z",
     "iopub.status.idle": "2022-10-21T18:40:11.081719Z",
     "shell.execute_reply": "2022-10-21T18:40:11.080635Z"
    },
    "papermill": {
     "duration": 0.113829,
     "end_time": "2022-10-21T18:40:11.084416",
     "exception": false,
     "start_time": "2022-10-21T18:40:10.970587",
     "status": "completed"
    },
    "tags": []
   },
   "outputs": [],
   "source": [
    "df_train['length'] = df_train['cleaned'].str.split().str.len()\n",
    "df_train = df_train.loc[df_train['length']>=2]"
   ]
  },
  {
   "cell_type": "markdown",
   "id": "67976ff2",
   "metadata": {
    "papermill": {
     "duration": 0.010586,
     "end_time": "2022-10-21T18:40:11.106182",
     "exception": false,
     "start_time": "2022-10-21T18:40:11.095596",
     "status": "completed"
    },
    "tags": []
   },
   "source": [
    "### Train Dataset summary"
   ]
  },
  {
   "cell_type": "code",
   "execution_count": 16,
   "id": "fee41c20",
   "metadata": {
    "execution": {
     "iopub.execute_input": "2022-10-21T18:40:11.129731Z",
     "iopub.status.busy": "2022-10-21T18:40:11.128707Z",
     "iopub.status.idle": "2022-10-21T18:40:12.079130Z",
     "shell.execute_reply": "2022-10-21T18:40:12.077534Z"
    },
    "papermill": {
     "duration": 0.964709,
     "end_time": "2022-10-21T18:40:12.081608",
     "exception": false,
     "start_time": "2022-10-21T18:40:11.116899",
     "status": "completed"
    },
    "tags": []
   },
   "outputs": [
    {
     "name": "stdout",
     "output_type": "stream",
     "text": [
      "\n",
      "Class Name :  0\n",
      "Number of Headlines:42370\n",
      "Number of Words:243458\n",
      "Number of Unique Words:34470\n",
      "Most Frequent Words:\n",
      "\n",
      "না\t1905\n",
      "ও\t1406\n",
      "নিয়ে\t1369\n",
      "নিহত\t1137\n",
      "হবে\t989\n",
      "নতুন\t989\n",
      "থেকে\t911\n",
      "সঙ্গে\t722\n",
      "আজ\t685\n",
      "বাংলাদেশ\t683\n",
      "\n",
      "Class Name :  1\n",
      "Number of Headlines:6055\n",
      "Number of Words:45582\n",
      "Number of Unique Words:14992\n",
      "Most Frequent Words:\n",
      "\n",
      "এই\t583\n",
      "না\t321\n",
      "থেকে\t275\n",
      "করে\t221\n",
      "জানেন\t171\n",
      "কি\t170\n",
      "ভাইরাল\t142\n",
      "এক\t134\n",
      "ও\t126\n",
      "ভিডিও\t125\n",
      "Total Number of Unique Words:41756\n"
     ]
    }
   ],
   "source": [
    "def show_summary(dataset):\n",
    "\n",
    "    documents = []\n",
    "    words = []\n",
    "    u_words = []\n",
    "    total_u_words = [word.strip().lower() for t in list(dataset.cleaned) for word in t.strip().split()]\n",
    "    class_label= [k for k,v in dataset.category.value_counts().to_dict().items()]\n",
    "  # find word list\n",
    "    for label in class_label:\n",
    "        word_list = [word.strip().lower() for t in list(dataset[dataset.category==label].cleaned) for word in t.strip().split()]\n",
    "        counts = dict()\n",
    "        for word in word_list:\n",
    "                counts[word] = counts.get(word, 0)+1\n",
    "        # sort the dictionary of word list  \n",
    "        ordered = sorted(counts.items(), key= lambda item: item[1],reverse = True)\n",
    "        # Documents per class\n",
    "        documents.append(len(list(dataset[dataset.category ==label].cleaned)))\n",
    "        # Total Word per class\n",
    "        words.append(len(word_list))\n",
    "        # Unique words per class \n",
    "        u_words.append(len(np.unique(word_list)))\n",
    "\n",
    "        print(\"\\nClass Name : \",label)\n",
    "        print(\"Number of Headlines:{}\".format(len(list(dataset[dataset.category==label].cleaned))))  \n",
    "        print(\"Number of Words:{}\".format(len(word_list)))\n",
    "        print(\"Number of Unique Words:{}\".format(len(np.unique(word_list))))\n",
    "        print(\"Most Frequent Words:\\n\")\n",
    "        for k,v in ordered[:10]:\n",
    "              print(\"{}\\t{}\".format(k,v))\n",
    "    print(\"Total Number of Unique Words:{}\".format(len(np.unique(total_u_words))))\n",
    "\n",
    "    return documents,words,u_words,class_label\n",
    "\n",
    "documents,words,u_words,class_names = show_summary(df_train)"
   ]
  },
  {
   "cell_type": "code",
   "execution_count": 17,
   "id": "56885e4d",
   "metadata": {
    "execution": {
     "iopub.execute_input": "2022-10-21T18:40:12.106293Z",
     "iopub.status.busy": "2022-10-21T18:40:12.105905Z",
     "iopub.status.idle": "2022-10-21T18:40:12.367778Z",
     "shell.execute_reply": "2022-10-21T18:40:12.366859Z"
    },
    "papermill": {
     "duration": 0.276963,
     "end_time": "2022-10-21T18:40:12.370101",
     "exception": false,
     "start_time": "2022-10-21T18:40:12.093138",
     "status": "completed"
    },
    "tags": []
   },
   "outputs": [
    {
     "data": {
      "image/png": "[encoded data removed]",
      "text/plain": [
       "<Figure size 576x432 with 1 Axes>"
      ]
     },
     "metadata": {
      "needs_background": "light"
     },
     "output_type": "display_data"
    }
   ],
   "source": [
    "data_matrix = pd.DataFrame({'Total Comments':documents,\n",
    "                            'Total Words':words,\n",
    "                            'Unique Words':u_words,\n",
    "                            'Class Names':class_names})\n",
    "df = pd.melt(data_matrix, id_vars=\"Class Names\", var_name=\"Category\", value_name=\"Values\")\n",
    "plt.figure(figsize=(8, 6))\n",
    "ax = plt.subplot()\n",
    "\n",
    "sns.barplot(data=df,x='Class Names', y='Values' ,hue='Category')\n",
    "ax.set_xlabel('Class Names') \n",
    "ax.set_title('Data Statistics')\n",
    "\n",
    "ax.xaxis.set_ticklabels(class_names);"
   ]
  },
  {
   "cell_type": "markdown",
   "id": "6678184e",
   "metadata": {
    "papermill": {
     "duration": 0.012545,
     "end_time": "2022-10-21T18:40:12.393873",
     "exception": false,
     "start_time": "2022-10-21T18:40:12.381328",
     "status": "completed"
    },
    "tags": []
   },
   "source": [
    "### Frequency length distribution"
   ]
  },
  {
   "cell_type": "code",
   "execution_count": 18,
   "id": "2c3bf1e7",
   "metadata": {
    "execution": {
     "iopub.execute_input": "2022-10-21T18:40:12.417836Z",
     "iopub.status.busy": "2022-10-21T18:40:12.417478Z",
     "iopub.status.idle": "2022-10-21T18:40:12.733708Z",
     "shell.execute_reply": "2022-10-21T18:40:12.732636Z"
    },
    "papermill": {
     "duration": 0.331878,
     "end_time": "2022-10-21T18:40:12.736759",
     "exception": false,
     "start_time": "2022-10-21T18:40:12.404881",
     "status": "completed"
    },
    "tags": []
   },
   "outputs": [
    {
     "data": {
      "image/png": "[encoded data removed]",
      "text/plain": [
       "<Figure size 432x288 with 1 Axes>"
      ]
     },
     "metadata": {
      "needs_background": "light"
     },
     "output_type": "display_data"
    },
    {
     "name": "stdout",
     "output_type": "stream",
     "text": [
      "Maximum Length of a headlines: 21\n",
      "Minimum Length of a headlines: 2\n",
      "Average Length of a headlines: 6.0\n"
     ]
    }
   ],
   "source": [
    "frequency = dict()\n",
    "for i in df_train.length:\n",
    "    frequency[i] = frequency.get(i, 0)+1\n",
    "\n",
    "plt.bar(frequency.keys(), frequency.values())\n",
    "plt.xlim(1, 20)\n",
    "\n",
    "plt.xlabel('Length of the headlines')\n",
    "plt.ylabel('Frequency')\n",
    "plt.title('Length-Frequency Distribution')\n",
    "plt.show()\n",
    "print(f\"Maximum Length of a headlines: {max(df_train.length)}\")\n",
    "print(f\"Minimum Length of a headlines: {min(df_train.length)}\")\n",
    "print(f\"Average Length of a headlines: {round(np.mean(df_train.length),0)}\")\n"
   ]
  },
  {
   "cell_type": "markdown",
   "id": "78b14792",
   "metadata": {
    "papermill": {
     "duration": 0.01633,
     "end_time": "2022-10-21T18:40:12.772205",
     "exception": false,
     "start_time": "2022-10-21T18:40:12.755875",
     "status": "completed"
    },
    "tags": []
   },
   "source": [
    "### Tokenizing text"
   ]
  },
  {
   "cell_type": "code",
   "execution_count": 19,
   "id": "117a5b31",
   "metadata": {
    "execution": {
     "iopub.execute_input": "2022-10-21T18:40:12.807046Z",
     "iopub.status.busy": "2022-10-21T18:40:12.806616Z",
     "iopub.status.idle": "2022-10-21T18:40:14.040319Z",
     "shell.execute_reply": "2022-10-21T18:40:14.038709Z"
    },
    "papermill": {
     "duration": 1.253881,
     "end_time": "2022-10-21T18:40:14.042627",
     "exception": false,
     "start_time": "2022-10-21T18:40:12.788746",
     "status": "completed"
    },
    "tags": []
   },
   "outputs": [
    {
     "name": "stdout",
     "output_type": "stream",
     "text": [
      "41764\n"
     ]
    }
   ],
   "source": [
    "max_words = 50000\n",
    "tokenizer = Tokenizer(num_words = max_words, filters='!\"#$%&()*+,-./:;<=>?@[\\\\]^_`{|}~\\t\\n-',\n",
    "                      split=' ', char_level=False, oov_token='<oov>', document_count=0)\n",
    "tokenizer.fit_on_texts(df_train['cleaned'])\n",
    "\n",
    "word_counts = tokenizer.word_counts\n",
    "word_docs = tokenizer.word_docs\n",
    "word_index = tokenizer.word_index\n",
    "document_count = tokenizer.document_count\n",
    "\n",
    "print(len(word_counts))"
   ]
  },
  {
   "cell_type": "code",
   "execution_count": 20,
   "id": "560c6fc0",
   "metadata": {
    "execution": {
     "iopub.execute_input": "2022-10-21T18:40:14.067598Z",
     "iopub.status.busy": "2022-10-21T18:40:14.067266Z",
     "iopub.status.idle": "2022-10-21T18:40:14.112587Z",
     "shell.execute_reply": "2022-10-21T18:40:14.111547Z"
    },
    "papermill": {
     "duration": 0.060859,
     "end_time": "2022-10-21T18:40:14.115210",
     "exception": false,
     "start_time": "2022-10-21T18:40:14.054351",
     "status": "completed"
    },
    "tags": []
   },
   "outputs": [],
   "source": [
    "with open('tokenizer_7th.pickle','wb') as f:\n",
    "    pickle.dump(tokenizer,f,protocol=pickle.HIGHEST_PROTOCOL)"
   ]
  },
  {
   "cell_type": "code",
   "execution_count": 21,
   "id": "f8aefb4c",
   "metadata": {
    "execution": {
     "iopub.execute_input": "2022-10-21T18:40:14.140086Z",
     "iopub.status.busy": "2022-10-21T18:40:14.139612Z",
     "iopub.status.idle": "2022-10-21T18:40:15.319869Z",
     "shell.execute_reply": "2022-10-21T18:40:15.318777Z"
    },
    "papermill": {
     "duration": 1.195382,
     "end_time": "2022-10-21T18:40:15.322447",
     "exception": false,
     "start_time": "2022-10-21T18:40:14.127065",
     "status": "completed"
    },
    "tags": []
   },
   "outputs": [],
   "source": [
    "sequences = tokenizer.texts_to_sequences(df_train.cleaned)\n",
    "word_index = tokenizer.word_index\n",
    "\n",
    "max_len = 20\n",
    "corpus = pad_sequences(sequences, value=0, padding='post', maxlen= max_len)"
   ]
  },
  {
   "cell_type": "code",
   "execution_count": 22,
   "id": "955f68bb",
   "metadata": {
    "execution": {
     "iopub.execute_input": "2022-10-21T18:40:15.349170Z",
     "iopub.status.busy": "2022-10-21T18:40:15.348402Z",
     "iopub.status.idle": "2022-10-21T18:40:15.357467Z",
     "shell.execute_reply": "2022-10-21T18:40:15.356396Z"
    },
    "papermill": {
     "duration": 0.024756,
     "end_time": "2022-10-21T18:40:15.359660",
     "exception": false,
     "start_time": "2022-10-21T18:40:15.334904",
     "status": "completed"
    },
    "tags": []
   },
   "outputs": [
    {
     "name": "stdout",
     "output_type": "stream",
     "text": [
      "Headline: উত্তর প্রদেশে প্রিয়াংকার ইমেজ ব্যর্থ \n",
      " Sequence: [330, 3908, 4912, 13566, 417] \n",
      " padded sequence: \n",
      " [  330  3908  4912 13566   417     0     0     0     0     0     0     0\n",
      "     0     0     0     0     0     0     0     0] \n",
      "\n",
      "Headline:  বিড়াল অতিথিকে নিয়ে বিয়ে করলেন কানাডিয়ান দম্পতি \n",
      " Sequence: [3669, 13567, 4, 2002, 39, 13568, 1226] \n",
      " padded sequence: \n",
      " [ 3669 13567     4  2002    39 13568  1226     0     0     0     0     0\n",
      "     0     0     0     0     0     0     0     0] \n",
      "\n",
      "Headline: মিসর ছেড়ে চেচনিয়ার হয়ে খেলবেন সালাহ \n",
      " Sequence: [4195, 354, 19338, 71, 1278, 1559] \n",
      " padded sequence: \n",
      " [ 4195   354 19338    71  1278  1559     0     0     0     0     0     0\n",
      "     0     0     0     0     0     0     0     0] \n",
      "\n",
      "Headline: আলেপ্পোয় বিমান হামলা যুদ্ধাপরাধের শামিল \n",
      " Sequence: [13569, 106, 42, 4196, 4913] \n",
      " padded sequence: \n",
      " [13569   106    42  4196  4913     0     0     0     0     0     0     0\n",
      "     0     0     0     0     0     0     0     0] \n",
      "\n",
      "Headline: সিয়াটলে চুরি হওয়া বিমানটি বিধ্বস্ত চালক ছিলেন আত্মঘাতি \n",
      " Sequence: [19339, 435, 609, 10632, 326, 2003, 590, 8837] \n",
      " padded sequence: \n",
      " [19339   435   609 10632   326  2003   590  8837     0     0     0     0\n",
      "     0     0     0     0     0     0     0     0] \n",
      "\n"
     ]
    }
   ],
   "source": [
    "for i in range(5):\n",
    "    print(f'Headline: {df_train.cleaned[i]} \\n Sequence: {sequences[i]} \\n padded sequence: \\n {corpus[i]} \\n')\n"
   ]
  },
  {
   "cell_type": "code",
   "execution_count": 23,
   "id": "ac24d5dd",
   "metadata": {
    "execution": {
     "iopub.execute_input": "2022-10-21T18:40:15.384921Z",
     "iopub.status.busy": "2022-10-21T18:40:15.384023Z",
     "iopub.status.idle": "2022-10-21T18:40:15.388939Z",
     "shell.execute_reply": "2022-10-21T18:40:15.387957Z"
    },
    "papermill": {
     "duration": 0.019648,
     "end_time": "2022-10-21T18:40:15.391116",
     "exception": false,
     "start_time": "2022-10-21T18:40:15.371468",
     "status": "completed"
    },
    "tags": []
   },
   "outputs": [],
   "source": [
    "y_train = df_train['category']\n",
    "X_train = corpus"
   ]
  },
  {
   "cell_type": "markdown",
   "id": "5e97a600",
   "metadata": {
    "papermill": {
     "duration": 0.01159,
     "end_time": "2022-10-21T18:40:15.414589",
     "exception": false,
     "start_time": "2022-10-21T18:40:15.402999",
     "status": "completed"
    },
    "tags": []
   },
   "source": [
    "### Model Defination"
   ]
  },
  {
   "cell_type": "code",
   "execution_count": 24,
   "id": "6430cfc2",
   "metadata": {
    "execution": {
     "iopub.execute_input": "2022-10-21T18:40:15.439920Z",
     "iopub.status.busy": "2022-10-21T18:40:15.439582Z",
     "iopub.status.idle": "2022-10-21T18:40:19.983419Z",
     "shell.execute_reply": "2022-10-21T18:40:19.982398Z"
    },
    "papermill": {
     "duration": 4.55959,
     "end_time": "2022-10-21T18:40:19.986083",
     "exception": false,
     "start_time": "2022-10-21T18:40:15.426493",
     "status": "completed"
    },
    "tags": []
   },
   "outputs": [
    {
     "name": "stderr",
     "output_type": "stream",
     "text": [
      "2022-10-21 18:40:15.554341: I tensorflow/stream_executor/cuda/cuda_gpu_executor.cc:937] successful NUMA node read from SysFS had negative value (-1), but there must be at least one NUMA node, so returning NUMA node zero\n",
      "2022-10-21 18:40:15.656933: I tensorflow/stream_executor/cuda/cuda_gpu_executor.cc:937] successful NUMA node read from SysFS had negative value (-1), but there must be at least one NUMA node, so returning NUMA node zero\n",
      "2022-10-21 18:40:15.657840: I tensorflow/stream_executor/cuda/cuda_gpu_executor.cc:937] successful NUMA node read from SysFS had negative value (-1), but there must be at least one NUMA node, so returning NUMA node zero\n",
      "2022-10-21 18:40:15.659567: I tensorflow/core/platform/cpu_feature_guard.cc:142] This TensorFlow binary is optimized with oneAPI Deep Neural Network Library (oneDNN) to use the following CPU instructions in performance-critical operations:  AVX2 AVX512F FMA\n",
      "To enable them in other operations, rebuild TensorFlow with the appropriate compiler flags.\n",
      "2022-10-21 18:40:15.659935: I tensorflow/stream_executor/cuda/cuda_gpu_executor.cc:937] successful NUMA node read from SysFS had negative value (-1), but there must be at least one NUMA node, so returning NUMA node zero\n",
      "2022-10-21 18:40:15.660770: I tensorflow/stream_executor/cuda/cuda_gpu_executor.cc:937] successful NUMA node read from SysFS had negative value (-1), but there must be at least one NUMA node, so returning NUMA node zero\n",
      "2022-10-21 18:40:15.661448: I tensorflow/stream_executor/cuda/cuda_gpu_executor.cc:937] successful NUMA node read from SysFS had negative value (-1), but there must be at least one NUMA node, so returning NUMA node zero\n",
      "2022-10-21 18:40:17.880613: I tensorflow/stream_executor/cuda/cuda_gpu_executor.cc:937] successful NUMA node read from SysFS had negative value (-1), but there must be at least one NUMA node, so returning NUMA node zero\n",
      "2022-10-21 18:40:17.881501: I tensorflow/stream_executor/cuda/cuda_gpu_executor.cc:937] successful NUMA node read from SysFS had negative value (-1), but there must be at least one NUMA node, so returning NUMA node zero\n",
      "2022-10-21 18:40:17.882160: I tensorflow/stream_executor/cuda/cuda_gpu_executor.cc:937] successful NUMA node read from SysFS had negative value (-1), but there must be at least one NUMA node, so returning NUMA node zero\n",
      "2022-10-21 18:40:17.882786: I tensorflow/core/common_runtime/gpu/gpu_device.cc:1510] Created device /job:localhost/replica:0/task:0/device:GPU:0 with 15401 MB memory:  -> device: 0, name: Tesla P100-PCIE-16GB, pci bus id: 0000:00:04.0, compute capability: 6.0\n"
     ]
    }
   ],
   "source": [
    "import keras.backend as K\n",
    "K.clear_session()\n",
    "\n",
    "embedding_dim = 64\n",
    "\n",
    "#BiGRU\n",
    "bigru_in = Input(shape=(max_len,))\n",
    "bigru_em_layer = Embedding(max_words,embedding_dim)(bigru_in)\n",
    "bigru_layer_1 = Bidirectional(GRU(32,dropout= 0.1))(bigru_em_layer)\n",
    "bigru_dense_layer_1 = Dense(32,activation='relu')(bigru_layer_1)\n",
    "bigru_flatten1 = Flatten()(bigru_dense_layer_1)\n",
    "bigru_out = Dense(1,activation = 'sigmoid')(bigru_flatten1)\n",
    "bigru_model = Model(inputs=bigru_in, outputs=bigru_out)\n",
    "\n",
    "#BiLSTM\n",
    "bilstm_in = Input(shape=(max_len,))\n",
    "bilstm_em_layer = Embedding(max_words,embedding_dim)(bilstm_in)\n",
    "bilstm_layer_1 = Bidirectional(LSTM(32,dropout= 0.1))(bilstm_em_layer)\n",
    "bilstm_dense_layer_1 = Dense(32,activation='relu')(bilstm_layer_1)\n",
    "bilstm_flatten1 = Flatten()(bilstm_dense_layer_1)\n",
    "bilstm_out = Dense(1,activation = 'sigmoid')(bilstm_flatten1)\n",
    "bilstm_model = Model(inputs=bilstm_in, outputs=bilstm_out)\n",
    "\n",
    "#BiGRU+CNN\n",
    "hybrid_in = Input(shape=(max_len,))\n",
    "hybrid_em_layer = Embedding(max_words,embedding_dim)(hybrid_in)\n",
    "gru_Layer = Bidirectional(GRU(32,return_sequences=True))(hybrid_em_layer)\n",
    "hybrid_conv1 = Conv1D(32,2,activation='relu')(gru_Layer)\n",
    "hybrid_pool1 = MaxPooling1D(2)(hybrid_conv1)\n",
    "hybrid_flat1 = Flatten()(hybrid_pool1)\n",
    "hybrid_out = Dense(1, activation='sigmoid')(hybrid_flat1)\n",
    "gru_cnn = Model(inputs=hybrid_in, outputs=hybrid_out)\n",
    "\n",
    "#BiLSTM+CNN\n",
    "blcnn_in = Input(shape=(max_len,))\n",
    "blcnn_em_layer = Embedding(max_words,embedding_dim)(blcnn_in)\n",
    "bl_layer = Bidirectional(LSTM(32,return_sequences=True))(blcnn_em_layer)\n",
    "blcnn_conv1 = Conv1D(32,2,activation='relu')(bl_layer)\n",
    "blcnn_pool1 = MaxPooling1D(2)(blcnn_conv1)\n",
    "blcnn_flat1 = Flatten()(blcnn_pool1)\n",
    "blcnn_out = Dense(1, activation='sigmoid')(blcnn_flat1)\n",
    "lstm_cnn = Model(inputs=blcnn_in, outputs=blcnn_out)\n"
   ]
  },
  {
   "cell_type": "code",
   "execution_count": 25,
   "id": "31ef39f4",
   "metadata": {
    "execution": {
     "iopub.execute_input": "2022-10-21T18:40:20.015626Z",
     "iopub.status.busy": "2022-10-21T18:40:20.015192Z",
     "iopub.status.idle": "2022-10-21T18:40:20.042891Z",
     "shell.execute_reply": "2022-10-21T18:40:20.041973Z"
    },
    "papermill": {
     "duration": 0.045425,
     "end_time": "2022-10-21T18:40:20.045555",
     "exception": false,
     "start_time": "2022-10-21T18:40:20.000130",
     "status": "completed"
    },
    "tags": []
   },
   "outputs": [],
   "source": [
    "fusion_layer = keras.layers.concatenate([bigru_model.output, bilstm_model.output,gru_cnn.output,lstm_cnn.output],name = 'Lately-Fused_4')\n",
    "fused_dense = Dense(16, activation='relu')(fusion_layer)\n",
    "fused_flatten = Flatten()(fused_dense)\n",
    "fused_out = Dense(1, activation='sigmoid')(fused_flatten)"
   ]
  },
  {
   "cell_type": "code",
   "execution_count": 26,
   "id": "752c4a31",
   "metadata": {
    "execution": {
     "iopub.execute_input": "2022-10-21T18:40:20.070603Z",
     "iopub.status.busy": "2022-10-21T18:40:20.070272Z",
     "iopub.status.idle": "2022-10-21T18:40:20.088377Z",
     "shell.execute_reply": "2022-10-21T18:40:20.087476Z"
    },
    "papermill": {
     "duration": 0.033141,
     "end_time": "2022-10-21T18:40:20.090475",
     "exception": false,
     "start_time": "2022-10-21T18:40:20.057334",
     "status": "completed"
    },
    "tags": []
   },
   "outputs": [],
   "source": [
    "Lf4_model = Model(inputs = [bigru_model.input, bilstm_model.input,gru_cnn.input,lstm_cnn.input], outputs=fused_out,name = \"LF_Trio\")\n",
    "Lf4_model.compile(loss='binary_crossentropy', optimizer='adam', metrics=['accuracy'])"
   ]
  },
  {
   "cell_type": "code",
   "execution_count": 27,
   "id": "47dc4eb0",
   "metadata": {
    "execution": {
     "iopub.execute_input": "2022-10-21T18:40:20.115681Z",
     "iopub.status.busy": "2022-10-21T18:40:20.114728Z",
     "iopub.status.idle": "2022-10-21T18:40:20.125819Z",
     "shell.execute_reply": "2022-10-21T18:40:20.123615Z"
    },
    "papermill": {
     "duration": 0.025739,
     "end_time": "2022-10-21T18:40:20.127839",
     "exception": false,
     "start_time": "2022-10-21T18:40:20.102100",
     "status": "completed"
    },
    "tags": []
   },
   "outputs": [
    {
     "name": "stdout",
     "output_type": "stream",
     "text": [
      "Model: \"LF_Trio\"\n",
      "__________________________________________________________________________________________________\n",
      "Layer (type)                    Output Shape         Param #     Connected to                     \n",
      "==================================================================================================\n",
      "input_3 (InputLayer)            [(None, 20)]         0                                            \n",
      "__________________________________________________________________________________________________\n",
      "input_4 (InputLayer)            [(None, 20)]         0                                            \n",
      "__________________________________________________________________________________________________\n",
      "input_1 (InputLayer)            [(None, 20)]         0                                            \n",
      "__________________________________________________________________________________________________\n",
      "input_2 (InputLayer)            [(None, 20)]         0                                            \n",
      "__________________________________________________________________________________________________\n",
      "embedding_2 (Embedding)         (None, 20, 64)       3200000     input_3[0][0]                    \n",
      "__________________________________________________________________________________________________\n",
      "embedding_3 (Embedding)         (None, 20, 64)       3200000     input_4[0][0]                    \n",
      "__________________________________________________________________________________________________\n",
      "embedding (Embedding)           (None, 20, 64)       3200000     input_1[0][0]                    \n",
      "__________________________________________________________________________________________________\n",
      "embedding_1 (Embedding)         (None, 20, 64)       3200000     input_2[0][0]                    \n",
      "__________________________________________________________________________________________________\n",
      "bidirectional_2 (Bidirectional) (None, 20, 64)       18816       embedding_2[0][0]                \n",
      "__________________________________________________________________________________________________\n",
      "bidirectional_3 (Bidirectional) (None, 20, 64)       24832       embedding_3[0][0]                \n",
      "__________________________________________________________________________________________________\n",
      "bidirectional (Bidirectional)   (None, 64)           18816       embedding[0][0]                  \n",
      "__________________________________________________________________________________________________\n",
      "bidirectional_1 (Bidirectional) (None, 64)           24832       embedding_1[0][0]                \n",
      "__________________________________________________________________________________________________\n",
      "conv1d (Conv1D)                 (None, 19, 32)       4128        bidirectional_2[0][0]            \n",
      "__________________________________________________________________________________________________\n",
      "conv1d_1 (Conv1D)               (None, 19, 32)       4128        bidirectional_3[0][0]            \n",
      "__________________________________________________________________________________________________\n",
      "dense (Dense)                   (None, 32)           2080        bidirectional[0][0]              \n",
      "__________________________________________________________________________________________________\n",
      "dense_2 (Dense)                 (None, 32)           2080        bidirectional_1[0][0]            \n",
      "__________________________________________________________________________________________________\n",
      "max_pooling1d (MaxPooling1D)    (None, 9, 32)        0           conv1d[0][0]                     \n",
      "__________________________________________________________________________________________________\n",
      "max_pooling1d_1 (MaxPooling1D)  (None, 9, 32)        0           conv1d_1[0][0]                   \n",
      "__________________________________________________________________________________________________\n",
      "flatten (Flatten)               (None, 32)           0           dense[0][0]                      \n",
      "__________________________________________________________________________________________________\n",
      "flatten_1 (Flatten)             (None, 32)           0           dense_2[0][0]                    \n",
      "__________________________________________________________________________________________________\n",
      "flatten_2 (Flatten)             (None, 288)          0           max_pooling1d[0][0]              \n",
      "__________________________________________________________________________________________________\n",
      "flatten_3 (Flatten)             (None, 288)          0           max_pooling1d_1[0][0]            \n",
      "__________________________________________________________________________________________________\n",
      "dense_1 (Dense)                 (None, 1)            33          flatten[0][0]                    \n",
      "__________________________________________________________________________________________________\n",
      "dense_3 (Dense)                 (None, 1)            33          flatten_1[0][0]                  \n",
      "__________________________________________________________________________________________________\n",
      "dense_4 (Dense)                 (None, 1)            289         flatten_2[0][0]                  \n",
      "__________________________________________________________________________________________________\n",
      "dense_5 (Dense)                 (None, 1)            289         flatten_3[0][0]                  \n",
      "__________________________________________________________________________________________________\n",
      "Lately-Fused_4 (Concatenate)    (None, 4)            0           dense_1[0][0]                    \n",
      "                                                                 dense_3[0][0]                    \n",
      "                                                                 dense_4[0][0]                    \n",
      "                                                                 dense_5[0][0]                    \n",
      "__________________________________________________________________________________________________\n",
      "dense_6 (Dense)                 (None, 16)           80          Lately-Fused_4[0][0]             \n",
      "__________________________________________________________________________________________________\n",
      "flatten_4 (Flatten)             (None, 16)           0           dense_6[0][0]                    \n",
      "__________________________________________________________________________________________________\n",
      "dense_7 (Dense)                 (None, 1)            17          flatten_4[0][0]                  \n",
      "==================================================================================================\n",
      "Total params: 12,900,453\n",
      "Trainable params: 12,900,453\n",
      "Non-trainable params: 0\n",
      "__________________________________________________________________________________________________\n"
     ]
    }
   ],
   "source": [
    "Lf4_model.summary()"
   ]
  },
  {
   "cell_type": "code",
   "execution_count": 28,
   "id": "8d6f1ffa",
   "metadata": {
    "execution": {
     "iopub.execute_input": "2022-10-21T18:40:20.152960Z",
     "iopub.status.busy": "2022-10-21T18:40:20.152086Z",
     "iopub.status.idle": "2022-10-21T18:40:21.353131Z",
     "shell.execute_reply": "2022-10-21T18:40:21.351966Z"
    },
    "papermill": {
     "duration": 1.216246,
     "end_time": "2022-10-21T18:40:21.355808",
     "exception": false,
     "start_time": "2022-10-21T18:40:20.139562",
     "status": "completed"
    },
    "tags": []
   },
   "outputs": [
    {
     "data": {
      "image/png": "[encoded data removed]",
      "text/plain": [
       "<IPython.core.display.Image object>"
      ]
     },
     "execution_count": 28,
     "metadata": {},
     "output_type": "execute_result"
    }
   ],
   "source": [
    "plot_model(Lf4_model, to_file='LF4_model.png', show_shapes=True, show_layer_names=True)"
   ]
  },
  {
   "cell_type": "markdown",
   "id": "6aba1614",
   "metadata": {
    "papermill": {
     "duration": 0.015081,
     "end_time": "2022-10-21T18:40:21.386846",
     "exception": false,
     "start_time": "2022-10-21T18:40:21.371765",
     "status": "completed"
    },
    "tags": []
   },
   "source": [
    "### Defining custom callbacks"
   ]
  },
  {
   "cell_type": "code",
   "execution_count": 29,
   "id": "fd063db5",
   "metadata": {
    "execution": {
     "iopub.execute_input": "2022-10-21T18:40:21.418696Z",
     "iopub.status.busy": "2022-10-21T18:40:21.417725Z",
     "iopub.status.idle": "2022-10-21T18:40:21.425295Z",
     "shell.execute_reply": "2022-10-21T18:40:21.424316Z"
    },
    "papermill": {
     "duration": 0.025661,
     "end_time": "2022-10-21T18:40:21.427407",
     "exception": false,
     "start_time": "2022-10-21T18:40:21.401746",
     "status": "completed"
    },
    "tags": []
   },
   "outputs": [],
   "source": [
    "from keras.callbacks import ModelCheckpoint,EarlyStopping\n",
    "early_stp = EarlyStopping(\n",
    "    monitor=\"val_loss\",\n",
    "    patience=3,\n",
    "    verbose=0,\n",
    "    mode=\"auto\",\n",
    ")\n",
    "model_check = ModelCheckpoint('LF_Trio_stp.h5', monitor='val_accuracy', verbose=2, save_best_only=True, \n",
    "                                             save_weights_only=False, mode='max')\n",
    "callback_lst = [early_stp,model_check]"
   ]
  },
  {
   "cell_type": "code",
   "execution_count": 30,
   "id": "5731224b",
   "metadata": {
    "execution": {
     "iopub.execute_input": "2022-10-21T18:40:21.459213Z",
     "iopub.status.busy": "2022-10-21T18:40:21.458362Z",
     "iopub.status.idle": "2022-10-21T18:41:55.425205Z",
     "shell.execute_reply": "2022-10-21T18:41:55.424017Z"
    },
    "papermill": {
     "duration": 93.985913,
     "end_time": "2022-10-21T18:41:55.428481",
     "exception": false,
     "start_time": "2022-10-21T18:40:21.442568",
     "status": "completed"
    },
    "tags": []
   },
   "outputs": [
    {
     "name": "stderr",
     "output_type": "stream",
     "text": [
      "2022-10-21 18:40:21.528274: I tensorflow/compiler/mlir/mlir_graph_optimization_pass.cc:185] None of the MLIR Optimization Passes are enabled (registered 2)\n"
     ]
    },
    {
     "name": "stdout",
     "output_type": "stream",
     "text": [
      "Epoch 1/10\n"
     ]
    },
    {
     "name": "stderr",
     "output_type": "stream",
     "text": [
      "2022-10-21 18:40:32.929277: I tensorflow/stream_executor/cuda/cuda_dnn.cc:369] Loaded cuDNN version 8005\n"
     ]
    },
    {
     "name": "stdout",
     "output_type": "stream",
     "text": [
      "681/681 [==============================] - 35s 25ms/step - loss: 0.3543 - accuracy: 0.8793 - val_loss: 0.2235 - val_accuracy: 0.9234\n",
      "\n",
      "Epoch 00001: val_accuracy improved from -inf to 0.92339, saving model to LF_Trio_stp.h5\n",
      "Epoch 2/10\n",
      "681/681 [==============================] - 14s 21ms/step - loss: 0.1517 - accuracy: 0.9490 - val_loss: 0.1633 - val_accuracy: 0.9383\n",
      "\n",
      "Epoch 00002: val_accuracy improved from 0.92339 to 0.93826, saving model to LF_Trio_stp.h5\n",
      "Epoch 3/10\n",
      "681/681 [==============================] - 14s 21ms/step - loss: 0.0515 - accuracy: 0.9851 - val_loss: 0.1922 - val_accuracy: 0.9393\n",
      "\n",
      "Epoch 00003: val_accuracy improved from 0.93826 to 0.93929, saving model to LF_Trio_stp.h5\n",
      "Epoch 4/10\n",
      "681/681 [==============================] - 14s 20ms/step - loss: 0.0221 - accuracy: 0.9951 - val_loss: 0.2205 - val_accuracy: 0.9354\n",
      "\n",
      "Epoch 00004: val_accuracy did not improve from 0.93929\n",
      "Epoch 5/10\n",
      "681/681 [==============================] - 15s 22ms/step - loss: 0.0127 - accuracy: 0.9969 - val_loss: 0.2615 - val_accuracy: 0.9327\n",
      "\n",
      "Epoch 00005: val_accuracy did not improve from 0.93929\n"
     ]
    }
   ],
   "source": [
    "history = Lf4_model.fit([X_train,X_train,X_train,X_train],\n",
    "                          y_train,\n",
    "                          epochs = 10,\n",
    "                          batch_size = 64,\n",
    "                          verbose = 1,\n",
    "                          validation_split = 0.1,\n",
    "                          callbacks = callback_lst)"
   ]
  },
  {
   "cell_type": "code",
   "execution_count": 31,
   "id": "811b55f8",
   "metadata": {
    "execution": {
     "iopub.execute_input": "2022-10-21T18:41:55.589304Z",
     "iopub.status.busy": "2022-10-21T18:41:55.588920Z",
     "iopub.status.idle": "2022-10-21T18:42:54.093217Z",
     "shell.execute_reply": "2022-10-21T18:42:54.092202Z"
    },
    "papermill": {
     "duration": 58.671792,
     "end_time": "2022-10-21T18:42:54.180163",
     "exception": false,
     "start_time": "2022-10-21T18:41:55.508371",
     "status": "completed"
    },
    "tags": []
   },
   "outputs": [
    {
     "data": {
      "image/png": "[encoded data removed]",
      "text/plain": [
       "<Figure size 432x288 with 1 Axes>"
      ]
     },
     "metadata": {
      "needs_background": "light"
     },
     "output_type": "display_data"
    }
   ],
   "source": [
    "loss_values = history.history['loss']\n",
    "val_loss_values = history.history['val_loss']\n",
    "acc = history.history['accuracy']\n",
    "val_acc = history.history['val_accuracy']\n",
    "epochs = range(1, len(acc) + 1)\n",
    "\n",
    "plt.plot(epochs, acc, color='midnightblue', linewidth = 2, \n",
    "          marker='o', markersize=8,label='Training Accuracy')\n",
    "plt.plot(epochs, val_acc, color='darkred', linewidth = 2, \n",
    "          marker='o', markersize=8,label='Training Accuracy')\n",
    "plt.title('Training and validation accuracy',fontsize=12)\n",
    "plt.xlabel('Epochs',fontsize=12)\n",
    "plt.ylabel('Accuracy',fontsize=12)\n",
    "plt.legend(['Training Accuracy','Validation Accuracy'])\n",
    "plt.show()"
   ]
  },
  {
   "cell_type": "code",
   "execution_count": 32,
   "id": "04c6de9d",
   "metadata": {
    "execution": {
     "iopub.execute_input": "2022-10-21T18:42:54.352415Z",
     "iopub.status.busy": "2022-10-21T18:42:54.351658Z",
     "iopub.status.idle": "2022-10-21T18:42:54.637315Z",
     "shell.execute_reply": "2022-10-21T18:42:54.636267Z"
    },
    "papermill": {
     "duration": 0.374506,
     "end_time": "2022-10-21T18:42:54.639587",
     "exception": false,
     "start_time": "2022-10-21T18:42:54.265081",
     "status": "completed"
    },
    "tags": []
   },
   "outputs": [
    {
     "data": {
      "text/plain": [
       "<matplotlib.legend.Legend at 0x7f1da8642dd0>"
      ]
     },
     "execution_count": 32,
     "metadata": {},
     "output_type": "execute_result"
    },
    {
     "data": {
      "image/png": "[encoded data removed]",
      "text/plain": [
       "<Figure size 432x288 with 1 Axes>"
      ]
     },
     "metadata": {
      "needs_background": "light"
     },
     "output_type": "display_data"
    }
   ],
   "source": [
    "plt.plot(epochs, loss_values, color='midnightblue', linewidth = 2, \n",
    "          marker='o', markersize=8,label='Training Accuracy')\n",
    "plt.plot(epochs, val_loss_values, color='darkred', linewidth = 2, \n",
    "          marker='o', markersize=8,label='Training Accuracy')\n",
    "plt.title('Training and validation Loss',fontsize=12)\n",
    "plt.xlabel('Epochs',fontsize=12)\n",
    "plt.ylabel('Loss',fontsize=12)\n",
    "plt.legend(['Training Loss','Validation Loss'])"
   ]
  },
  {
   "cell_type": "markdown",
   "id": "d09a202a",
   "metadata": {
    "papermill": {
     "duration": 0.086424,
     "end_time": "2022-10-21T18:42:54.812868",
     "exception": false,
     "start_time": "2022-10-21T18:42:54.726444",
     "status": "completed"
    },
    "tags": []
   },
   "source": [
    "### Function for predicting Output"
   ]
  },
  {
   "cell_type": "code",
   "execution_count": 33,
   "id": "366ea7bc",
   "metadata": {
    "execution": {
     "iopub.execute_input": "2022-10-21T18:42:54.986878Z",
     "iopub.status.busy": "2022-10-21T18:42:54.986384Z",
     "iopub.status.idle": "2022-10-21T18:42:57.106339Z",
     "shell.execute_reply": "2022-10-21T18:42:57.105093Z"
    },
    "papermill": {
     "duration": 2.211072,
     "end_time": "2022-10-21T18:42:57.109054",
     "exception": false,
     "start_time": "2022-10-21T18:42:54.897982",
     "status": "completed"
    },
    "tags": []
   },
   "outputs": [],
   "source": [
    "best_model = keras.models.load_model('./LF_Trio_stp.h5')\n",
    "def predict_res(sample):\n",
    "    processed_text = preprocess(sample)\n",
    "    with open('./tokenizer_7th.pickle', 'rb') as handle:\n",
    "        loaded_tokenizer = pickle.load(handle)\n",
    "    seq= loaded_tokenizer.texts_to_sequences([processed_text])\n",
    "    padded = pad_sequences(seq, value=0,padding='post', maxlen= 20)\n",
    "    pred = best_model.predict([padded,padded,padded,padded])[0]\n",
    "    pred_f = (pred>0.5).astype('int')\n",
    "    return pred_f[0]"
   ]
  },
  {
   "cell_type": "code",
   "execution_count": 34,
   "id": "fa9e5497",
   "metadata": {
    "execution": {
     "iopub.execute_input": "2022-10-21T18:42:57.285745Z",
     "iopub.status.busy": "2022-10-21T18:42:57.284639Z",
     "iopub.status.idle": "2022-10-21T18:42:59.902449Z",
     "shell.execute_reply": "2022-10-21T18:42:59.901429Z"
    },
    "papermill": {
     "duration": 2.708218,
     "end_time": "2022-10-21T18:42:59.904649",
     "exception": false,
     "start_time": "2022-10-21T18:42:57.196431",
     "status": "completed"
    },
    "tags": []
   },
   "outputs": [
    {
     "data": {
      "text/plain": [
       "1"
      ]
     },
     "execution_count": 34,
     "metadata": {},
     "output_type": "execute_result"
    }
   ],
   "source": [
    "predict_res('এই গ্রামের সব সারমেয় কোটিপতি')"
   ]
  },
  {
   "cell_type": "code",
   "execution_count": 35,
   "id": "96fb6b4f",
   "metadata": {
    "execution": {
     "iopub.execute_input": "2022-10-21T18:43:00.076160Z",
     "iopub.status.busy": "2022-10-21T18:43:00.075779Z",
     "iopub.status.idle": "2022-10-21T18:43:00.187000Z",
     "shell.execute_reply": "2022-10-21T18:43:00.185957Z"
    },
    "papermill": {
     "duration": 0.20157,
     "end_time": "2022-10-21T18:43:00.189756",
     "exception": false,
     "start_time": "2022-10-21T18:42:59.988186",
     "status": "completed"
    },
    "tags": []
   },
   "outputs": [
    {
     "data": {
      "text/plain": [
       "0"
      ]
     },
     "execution_count": 35,
     "metadata": {},
     "output_type": "execute_result"
    }
   ],
   "source": [
    "predict_res('শেখ হাসিনার ভূয়সী প্রশংসা')"
   ]
  },
  {
   "cell_type": "code",
   "execution_count": 36,
   "id": "85ce5ec3",
   "metadata": {
    "execution": {
     "iopub.execute_input": "2022-10-21T18:43:00.365192Z",
     "iopub.status.busy": "2022-10-21T18:43:00.364112Z",
     "iopub.status.idle": "2022-10-21T18:43:00.376054Z",
     "shell.execute_reply": "2022-10-21T18:43:00.374909Z"
    },
    "papermill": {
     "duration": 0.099816,
     "end_time": "2022-10-21T18:43:00.378524",
     "exception": false,
     "start_time": "2022-10-21T18:43:00.278708",
     "status": "completed"
    },
    "tags": []
   },
   "outputs": [
    {
     "data": {
      "text/html": [
       "<div>\n",
       "<style scoped>\n",
       "    .dataframe tbody tr th:only-of-type {\n",
       "        vertical-align: middle;\n",
       "    }\n",
       "\n",
       "    .dataframe tbody tr th {\n",
       "        vertical-align: top;\n",
       "    }\n",
       "\n",
       "    .dataframe thead th {\n",
       "        text-align: right;\n",
       "    }\n",
       "</style>\n",
       "<table border=\"1\" class=\"dataframe\">\n",
       "  <thead>\n",
       "    <tr style=\"text-align: right;\">\n",
       "      <th></th>\n",
       "      <th>Id</th>\n",
       "      <th>headlines</th>\n",
       "    </tr>\n",
       "  </thead>\n",
       "  <tbody>\n",
       "    <tr>\n",
       "      <th>0</th>\n",
       "      <td>0</td>\n",
       "      <td>মেসি-রোনাল্ডোর দিন শেষ, ব্যালন ডিঅর পাচ্ছেন মড...</td>\n",
       "    </tr>\n",
       "    <tr>\n",
       "      <th>1</th>\n",
       "      <td>1</td>\n",
       "      <td>রানি মুখার্জির ফেরা নিশ্চিত হল</td>\n",
       "    </tr>\n",
       "    <tr>\n",
       "      <th>2</th>\n",
       "      <td>2</td>\n",
       "      <td>মোদি মিথ্যাবাদী : গগৈ</td>\n",
       "    </tr>\n",
       "    <tr>\n",
       "      <th>3</th>\n",
       "      <td>3</td>\n",
       "      <td>সন্ত্রাস, দুর্নীতিতে জড়িত কাউকে ছাড় দেয়া হবে ন...</td>\n",
       "    </tr>\n",
       "    <tr>\n",
       "      <th>4</th>\n",
       "      <td>4</td>\n",
       "      <td>আবারো শেষের নায়ক রামোস</td>\n",
       "    </tr>\n",
       "    <tr>\n",
       "      <th>5</th>\n",
       "      <td>5</td>\n",
       "      <td>আর্জেন্টিনাকে হারিয়েও ব্রাজিলের আক্ষেপ</td>\n",
       "    </tr>\n",
       "    <tr>\n",
       "      <th>6</th>\n",
       "      <td>6</td>\n",
       "      <td>সিবিআইপ্রধানের বাড়ির সামনে থেকে ৪ সন্দেহভাজন গ...</td>\n",
       "    </tr>\n",
       "    <tr>\n",
       "      <th>7</th>\n",
       "      <td>7</td>\n",
       "      <td>এই গ্রামের সব সারমেয় কোটিপতি</td>\n",
       "    </tr>\n",
       "    <tr>\n",
       "      <th>8</th>\n",
       "      <td>8</td>\n",
       "      <td>আন্তঃবিশ্ববিদ্যালয় ক্রিকেটে চ্যাম্পিয়ন রাবি</td>\n",
       "    </tr>\n",
       "    <tr>\n",
       "      <th>9</th>\n",
       "      <td>9</td>\n",
       "      <td>কাল আরব আমিরাত যাচ্ছেন সেনাপ্রধান</td>\n",
       "    </tr>\n",
       "  </tbody>\n",
       "</table>\n",
       "</div>"
      ],
      "text/plain": [
       "   Id                                          headlines\n",
       "0   0  মেসি-রোনাল্ডোর দিন শেষ, ব্যালন ডিঅর পাচ্ছেন মড...\n",
       "1   1                     রানি মুখার্জির ফেরা নিশ্চিত হল\n",
       "2   2                              মোদি মিথ্যাবাদী : গগৈ\n",
       "3   3  সন্ত্রাস, দুর্নীতিতে জড়িত কাউকে ছাড় দেয়া হবে ন...\n",
       "4   4                             আবারো শেষের নায়ক রামোস\n",
       "5   5             আর্জেন্টিনাকে হারিয়েও ব্রাজিলের আক্ষেপ\n",
       "6   6  সিবিআইপ্রধানের বাড়ির সামনে থেকে ৪ সন্দেহভাজন গ...\n",
       "7   7                      এই গ্রামের সব সারমেয় কোটিপতি\n",
       "8   8        আন্তঃবিশ্ববিদ্যালয় ক্রিকেটে চ্যাম্পিয়ন রাবি\n",
       "9   9                  কাল আরব আমিরাত যাচ্ছেন সেনাপ্রধান"
      ]
     },
     "execution_count": 36,
     "metadata": {},
     "output_type": "execute_result"
    }
   ],
   "source": [
    "df_test.head(10)"
   ]
  },
  {
   "cell_type": "markdown",
   "id": "eaa94ed4",
   "metadata": {
    "papermill": {
     "duration": 0.084536,
     "end_time": "2022-10-21T18:43:00.549531",
     "exception": false,
     "start_time": "2022-10-21T18:43:00.464995",
     "status": "completed"
    },
    "tags": []
   },
   "source": [
    "### Applying prediction function on test dataset"
   ]
  },
  {
   "cell_type": "code",
   "execution_count": 37,
   "id": "6870d436",
   "metadata": {
    "execution": {
     "iopub.execute_input": "2022-10-21T18:43:00.725040Z",
     "iopub.status.busy": "2022-10-21T18:43:00.724657Z",
     "iopub.status.idle": "2022-10-21T19:02:45.519802Z",
     "shell.execute_reply": "2022-10-21T19:02:45.518636Z"
    },
    "papermill": {
     "duration": 1184.886719,
     "end_time": "2022-10-21T19:02:45.522850",
     "exception": false,
     "start_time": "2022-10-21T18:43:00.636131",
     "status": "completed"
    },
    "tags": []
   },
   "outputs": [],
   "source": [
    "df_test['category'] = df_test['headlines'].apply(predict_res)"
   ]
  },
  {
   "cell_type": "code",
   "execution_count": 38,
   "id": "6527c816",
   "metadata": {
    "execution": {
     "iopub.execute_input": "2022-10-21T19:02:45.684320Z",
     "iopub.status.busy": "2022-10-21T19:02:45.683941Z",
     "iopub.status.idle": "2022-10-21T19:02:45.693774Z",
     "shell.execute_reply": "2022-10-21T19:02:45.692386Z"
    },
    "papermill": {
     "duration": 0.092854,
     "end_time": "2022-10-21T19:02:45.695851",
     "exception": false,
     "start_time": "2022-10-21T19:02:45.602997",
     "status": "completed"
    },
    "tags": []
   },
   "outputs": [
    {
     "data": {
      "text/plain": [
       "0    10779\n",
       "1     1348\n",
       "Name: category, dtype: int64"
      ]
     },
     "execution_count": 38,
     "metadata": {},
     "output_type": "execute_result"
    }
   ],
   "source": [
    "df_test.category.value_counts()"
   ]
  },
  {
   "cell_type": "markdown",
   "id": "e99956b8",
   "metadata": {
    "papermill": {
     "duration": 0.080809,
     "end_time": "2022-10-21T19:02:45.857696",
     "exception": false,
     "start_time": "2022-10-21T19:02:45.776887",
     "status": "completed"
    },
    "tags": []
   },
   "source": [
    "### Generating submission file in csv format"
   ]
  },
  {
   "cell_type": "code",
   "execution_count": 39,
   "id": "e4965239",
   "metadata": {
    "execution": {
     "iopub.execute_input": "2022-10-21T19:02:46.024728Z",
     "iopub.status.busy": "2022-10-21T19:02:46.024041Z",
     "iopub.status.idle": "2022-10-21T19:02:46.044733Z",
     "shell.execute_reply": "2022-10-21T19:02:46.043660Z"
    },
    "papermill": {
     "duration": 0.106526,
     "end_time": "2022-10-21T19:02:46.047316",
     "exception": false,
     "start_time": "2022-10-21T19:02:45.940790",
     "status": "completed"
    },
    "tags": []
   },
   "outputs": [],
   "source": [
    "my_submission = pd.DataFrame({'Id': df_test.Id, 'category': df_test.category})\n",
    "my_submission.to_csv('7th_LF4.csv', index=False)"
   ]
  },
  {
   "cell_type": "code",
   "execution_count": 40,
   "id": "0e1d5de9",
   "metadata": {
    "execution": {
     "iopub.execute_input": "2022-10-21T19:02:46.220976Z",
     "iopub.status.busy": "2022-10-21T19:02:46.220596Z",
     "iopub.status.idle": "2022-10-21T19:02:46.235963Z",
     "shell.execute_reply": "2022-10-21T19:02:46.234853Z"
    },
    "papermill": {
     "duration": 0.105686,
     "end_time": "2022-10-21T19:02:46.238443",
     "exception": false,
     "start_time": "2022-10-21T19:02:46.132757",
     "status": "completed"
    },
    "tags": []
   },
   "outputs": [
    {
     "data": {
      "text/html": [
       "<div>\n",
       "<style scoped>\n",
       "    .dataframe tbody tr th:only-of-type {\n",
       "        vertical-align: middle;\n",
       "    }\n",
       "\n",
       "    .dataframe tbody tr th {\n",
       "        vertical-align: top;\n",
       "    }\n",
       "\n",
       "    .dataframe thead th {\n",
       "        text-align: right;\n",
       "    }\n",
       "</style>\n",
       "<table border=\"1\" class=\"dataframe\">\n",
       "  <thead>\n",
       "    <tr style=\"text-align: right;\">\n",
       "      <th></th>\n",
       "      <th>Id</th>\n",
       "      <th>headlines</th>\n",
       "      <th>category</th>\n",
       "    </tr>\n",
       "  </thead>\n",
       "  <tbody>\n",
       "    <tr>\n",
       "      <th>0</th>\n",
       "      <td>0</td>\n",
       "      <td>মেসি-রোনাল্ডোর দিন শেষ, ব্যালন ডিঅর পাচ্ছেন মড...</td>\n",
       "      <td>0</td>\n",
       "    </tr>\n",
       "    <tr>\n",
       "      <th>1</th>\n",
       "      <td>1</td>\n",
       "      <td>রানি মুখার্জির ফেরা নিশ্চিত হল</td>\n",
       "      <td>0</td>\n",
       "    </tr>\n",
       "    <tr>\n",
       "      <th>2</th>\n",
       "      <td>2</td>\n",
       "      <td>মোদি মিথ্যাবাদী : গগৈ</td>\n",
       "      <td>0</td>\n",
       "    </tr>\n",
       "    <tr>\n",
       "      <th>3</th>\n",
       "      <td>3</td>\n",
       "      <td>সন্ত্রাস, দুর্নীতিতে জড়িত কাউকে ছাড় দেয়া হবে ন...</td>\n",
       "      <td>0</td>\n",
       "    </tr>\n",
       "    <tr>\n",
       "      <th>4</th>\n",
       "      <td>4</td>\n",
       "      <td>আবারো শেষের নায়ক রামোস</td>\n",
       "      <td>0</td>\n",
       "    </tr>\n",
       "    <tr>\n",
       "      <th>...</th>\n",
       "      <td>...</td>\n",
       "      <td>...</td>\n",
       "      <td>...</td>\n",
       "    </tr>\n",
       "    <tr>\n",
       "      <th>12121</th>\n",
       "      <td>12121</td>\n",
       "      <td>শেখ হাসিনার ভূয়সী প্রশংসা</td>\n",
       "      <td>0</td>\n",
       "    </tr>\n",
       "    <tr>\n",
       "      <th>12122</th>\n",
       "      <td>12122</td>\n",
       "      <td>প্রথম ক্ষেপণাস্ত্র সজ্জিত সাবমেরিন উন্মোচন ইরানের</td>\n",
       "      <td>0</td>\n",
       "    </tr>\n",
       "    <tr>\n",
       "      <th>12123</th>\n",
       "      <td>12123</td>\n",
       "      <td>তলিয়ে গেছে নগরী</td>\n",
       "      <td>0</td>\n",
       "    </tr>\n",
       "    <tr>\n",
       "      <th>12125</th>\n",
       "      <td>12125</td>\n",
       "      <td>বিএনপি-জামায়াতের ষড়যন্ত্রেই কারণে গণহত্যার আন্...</td>\n",
       "      <td>0</td>\n",
       "    </tr>\n",
       "    <tr>\n",
       "      <th>12126</th>\n",
       "      <td>12126</td>\n",
       "      <td>এমপি মনোনয়নপ্রত্যাশীদের শোডাউন</td>\n",
       "      <td>0</td>\n",
       "    </tr>\n",
       "  </tbody>\n",
       "</table>\n",
       "<p>10779 rows × 3 columns</p>\n",
       "</div>"
      ],
      "text/plain": [
       "          Id                                          headlines  category\n",
       "0          0  মেসি-রোনাল্ডোর দিন শেষ, ব্যালন ডিঅর পাচ্ছেন মড...         0\n",
       "1          1                     রানি মুখার্জির ফেরা নিশ্চিত হল         0\n",
       "2          2                              মোদি মিথ্যাবাদী : গগৈ         0\n",
       "3          3  সন্ত্রাস, দুর্নীতিতে জড়িত কাউকে ছাড় দেয়া হবে ন...         0\n",
       "4          4                             আবারো শেষের নায়ক রামোস         0\n",
       "...      ...                                                ...       ...\n",
       "12121  12121                          শেখ হাসিনার ভূয়সী প্রশংসা         0\n",
       "12122  12122  প্রথম ক্ষেপণাস্ত্র সজ্জিত সাবমেরিন উন্মোচন ইরানের         0\n",
       "12123  12123                                    তলিয়ে গেছে নগরী         0\n",
       "12125  12125  বিএনপি-জামায়াতের ষড়যন্ত্রেই কারণে গণহত্যার আন্...         0\n",
       "12126  12126                     এমপি মনোনয়নপ্রত্যাশীদের শোডাউন         0\n",
       "\n",
       "[10779 rows x 3 columns]"
      ]
     },
     "execution_count": 40,
     "metadata": {},
     "output_type": "execute_result"
    }
   ],
   "source": [
    "df_test[df_test.category==0]"
   ]
  },
  {
   "cell_type": "code",
   "execution_count": 41,
   "id": "863714da",
   "metadata": {
    "execution": {
     "iopub.execute_input": "2022-10-21T19:02:46.410752Z",
     "iopub.status.busy": "2022-10-21T19:02:46.409736Z",
     "iopub.status.idle": "2022-10-21T19:02:46.424193Z",
     "shell.execute_reply": "2022-10-21T19:02:46.423220Z"
    },
    "papermill": {
     "duration": 0.102632,
     "end_time": "2022-10-21T19:02:46.426377",
     "exception": false,
     "start_time": "2022-10-21T19:02:46.323745",
     "status": "completed"
    },
    "tags": []
   },
   "outputs": [
    {
     "data": {
      "text/html": [
       "<div>\n",
       "<style scoped>\n",
       "    .dataframe tbody tr th:only-of-type {\n",
       "        vertical-align: middle;\n",
       "    }\n",
       "\n",
       "    .dataframe tbody tr th {\n",
       "        vertical-align: top;\n",
       "    }\n",
       "\n",
       "    .dataframe thead th {\n",
       "        text-align: right;\n",
       "    }\n",
       "</style>\n",
       "<table border=\"1\" class=\"dataframe\">\n",
       "  <thead>\n",
       "    <tr style=\"text-align: right;\">\n",
       "      <th></th>\n",
       "      <th>Id</th>\n",
       "      <th>headlines</th>\n",
       "      <th>category</th>\n",
       "    </tr>\n",
       "  </thead>\n",
       "  <tbody>\n",
       "    <tr>\n",
       "      <th>7</th>\n",
       "      <td>7</td>\n",
       "      <td>এই গ্রামের সব সারমেয় কোটিপতি</td>\n",
       "      <td>1</td>\n",
       "    </tr>\n",
       "    <tr>\n",
       "      <th>17</th>\n",
       "      <td>17</td>\n",
       "      <td>এই বিজ্ঞানী বলছেন ভগবান আছেন!</td>\n",
       "      <td>1</td>\n",
       "    </tr>\n",
       "    <tr>\n",
       "      <th>20</th>\n",
       "      <td>20</td>\n",
       "      <td>মাটি খুঁড়ে বেরলো দু’হাজার বছরের পুরনো মাখন</td>\n",
       "      <td>1</td>\n",
       "    </tr>\n",
       "    <tr>\n",
       "      <th>22</th>\n",
       "      <td>22</td>\n",
       "      <td>বিদ্যাসাগরকে সতীদাহ বন্ধের ক্রেডিট দেওয়ায় বাবু...</td>\n",
       "      <td>1</td>\n",
       "    </tr>\n",
       "    <tr>\n",
       "      <th>35</th>\n",
       "      <td>35</td>\n",
       "      <td>ফিলিস্তিনের নেয় গরম ইসু কামে লাগাইতারি না: ফখা</td>\n",
       "      <td>1</td>\n",
       "    </tr>\n",
       "    <tr>\n",
       "      <th>...</th>\n",
       "      <td>...</td>\n",
       "      <td>...</td>\n",
       "      <td>...</td>\n",
       "    </tr>\n",
       "    <tr>\n",
       "      <th>12068</th>\n",
       "      <td>12068</td>\n",
       "      <td>জেনে নিন ফজলি আমের নেপথ্য কাহিনি</td>\n",
       "      <td>1</td>\n",
       "    </tr>\n",
       "    <tr>\n",
       "      <th>12072</th>\n",
       "      <td>12072</td>\n",
       "      <td>সমস্যা কাঁধে নিয়ে এগিয়ে চলেছে ‘রয়্যাল’ ক্যালক...</td>\n",
       "      <td>1</td>\n",
       "    </tr>\n",
       "    <tr>\n",
       "      <th>12074</th>\n",
       "      <td>12074</td>\n",
       "      <td>রান্না ঘরে কুমিরের দাপাদাপি, বুক শুকিয়ে গেল ম...</td>\n",
       "      <td>1</td>\n",
       "    </tr>\n",
       "    <tr>\n",
       "      <th>12092</th>\n",
       "      <td>12092</td>\n",
       "      <td>ইসরাইলির সঙ্গে সেলফি তোলায় দেশই ছাড়তে হলো ইর...</td>\n",
       "      <td>1</td>\n",
       "    </tr>\n",
       "    <tr>\n",
       "      <th>12124</th>\n",
       "      <td>12124</td>\n",
       "      <td>নাসায় কর্মরত ১৭-র বিস্ময় বালক</td>\n",
       "      <td>1</td>\n",
       "    </tr>\n",
       "  </tbody>\n",
       "</table>\n",
       "<p>1348 rows × 3 columns</p>\n",
       "</div>"
      ],
      "text/plain": [
       "          Id                                          headlines  category\n",
       "7          7                      এই গ্রামের সব সারমেয় কোটিপতি         1\n",
       "17        17                      এই বিজ্ঞানী বলছেন ভগবান আছেন!         1\n",
       "20        20         মাটি খুঁড়ে বেরলো দু’হাজার বছরের পুরনো মাখন         1\n",
       "22        22  বিদ্যাসাগরকে সতীদাহ বন্ধের ক্রেডিট দেওয়ায় বাবু...         1\n",
       "35        35     ফিলিস্তিনের নেয় গরম ইসু কামে লাগাইতারি না: ফখা         1\n",
       "...      ...                                                ...       ...\n",
       "12068  12068                   জেনে নিন ফজলি আমের নেপথ্য কাহিনি         1\n",
       "12072  12072  সমস্যা কাঁধে নিয়ে এগিয়ে চলেছে ‘রয়্যাল’ ক্যালক...         1\n",
       "12074  12074  রান্না ঘরে কুমিরের দাপাদাপি, বুক শুকিয়ে গেল ম...         1\n",
       "12092  12092  ইসরাইলির সঙ্গে সেলফি তোলায় দেশই ছাড়তে হলো ইর...         1\n",
       "12124  12124                      নাসায় কর্মরত ১৭-র বিস্ময় বালক         1\n",
       "\n",
       "[1348 rows x 3 columns]"
      ]
     },
     "execution_count": 41,
     "metadata": {},
     "output_type": "execute_result"
    }
   ],
   "source": [
    "df_test[df_test.category==1]"
   ]
  },
  {
   "cell_type": "code",
   "execution_count": null,
   "id": "a849a272",
   "metadata": {
    "papermill": {
     "duration": 0.08386,
     "end_time": "2022-10-21T19:02:46.597340",
     "exception": false,
     "start_time": "2022-10-21T19:02:46.513480",
     "status": "completed"
    },
    "tags": []
   },
   "outputs": [],
   "source": []
  }
 ],
 "metadata": {
  "kernelspec": {
   "display_name": "Python 3",
   "language": "python",
   "name": "python3"
  },
  "language_info": {
   "codemirror_mode": {
    "name": "ipython",
    "version": 3
   },
   "file_extension": ".py",
   "mimetype": "text/x-python",
   "name": "python",
   "nbconvert_exporter": "python",
   "pygments_lexer": "ipython3",
   "version": "3.7.12"
  },
  "papermill": {
   "default_parameters": {},
   "duration": 1376.086332,
   "end_time": "2022-10-21T19:02:50.293401",
   "environment_variables": {},
   "exception": null,
   "input_path": "__notebook__.ipynb",
   "output_path": "__notebook__.ipynb",
   "parameters": {},
   "start_time": "2022-10-21T18:39:54.207069",
   "version": "2.3.4"
  }
 },
 "nbformat": 4,
 "nbformat_minor": 5
}
